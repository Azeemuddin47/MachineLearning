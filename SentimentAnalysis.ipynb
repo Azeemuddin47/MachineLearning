{
  "nbformat": 4,
  "nbformat_minor": 0,
  "metadata": {
    "colab": {
      "name": "SentimentAnalysis.ipynb",
      "provenance": [],
      "collapsed_sections": [],
      "authorship_tag": "ABX9TyOtDDf68mBf1ObT5gJIDDq/",
      "include_colab_link": true
    },
    "kernelspec": {
      "name": "python3",
      "display_name": "Python 3"
    },
    "language_info": {
      "name": "python"
    },
    "accelerator": "GPU"
  },
  "cells": [
    {
      "cell_type": "markdown",
      "metadata": {
        "id": "view-in-github",
        "colab_type": "text"
      },
      "source": [
        "<a href=\"https://colab.research.google.com/github/Azeemuddin47/MachineLearning/blob/main/SentimentAnalysis.ipynb\" target=\"_parent\"><img src=\"https://colab.research.google.com/assets/colab-badge.svg\" alt=\"Open In Colab\"/></a>"
      ]
    },
    {
      "cell_type": "code",
      "metadata": {
        "id": "pHsTRRfyFCNw"
      },
      "source": [
        "import pandas as pd\n",
        "import numpy as np\n",
        "import random\n",
        "\n",
        "from tensorflow.keras.models import Sequential\n",
        "from tensorflow.keras.layers import Dense, Dropout, Flatten\n",
        "from tensorflow.keras.layers import Conv1D, GlobalMaxPooling1D, Embedding\n",
        "from tensorflow.keras.optimizers import Adam\n",
        "from tensorflow.keras.preprocessing.sequence import pad_sequences\n",
        "from tensorflow.keras.preprocessing.text import Tokenizer\n",
        "\n",
        "import matplotlib.pyplot as plt\n",
        "\n",
        "from sklearn.model_selection import train_test_split"
      ],
      "execution_count": 1,
      "outputs": []
    },
    {
      "cell_type": "code",
      "metadata": {
        "colab": {
          "base_uri": "https://localhost:8080/"
        },
        "id": "BhG8LBmZFLDx",
        "outputId": "a6214ab7-8fb2-48f5-8240-4c27380a6af5"
      },
      "source": [
        "# Download data from https://archive.ics.uci.edu/ml/datasets/Sentiment+Labelled+Sentences\n",
        "\n",
        "!wget --quiet \"https://archive.ics.uci.edu/ml/machine-learning-databases/00331/sentiment%20labelled%20sentences.zip\"\n",
        "!unzip -q \"sentiment labelled sentences\"\n",
        "!mv \"sentiment labelled sentences\" data\n",
        "!ls -l data"
      ],
      "execution_count": 2,
      "outputs": [
        {
          "output_type": "stream",
          "text": [
            "total 208\n",
            "-rw-r--r-- 1 root root 58226 Jul  5  2016 amazon_cells_labelled.txt\n",
            "-rw-r--r-- 1 root root 85285 Feb 15  2015 imdb_labelled.txt\n",
            "-rw-r--r-- 1 root root  1070 May 31  2015 readme.txt\n",
            "-rw-r--r-- 1 root root 61320 Jul  5  2016 yelp_labelled.txt\n"
          ],
          "name": "stdout"
        }
      ]
    },
    {
      "cell_type": "code",
      "metadata": {
        "colab": {
          "base_uri": "https://localhost:8080/",
          "height": 365
        },
        "id": "_FrXWGs8FOVL",
        "outputId": "7b194646-529e-4888-c8a5-3e7bc95df62a"
      },
      "source": [
        "files = ['data/yelp_labelled.txt', 'data/amazon_cells_labelled.txt', 'data/imdb_labelled.txt']\n",
        "\n",
        "df_list = []\n",
        "for file in files:\n",
        "    df = pd.read_csv(file, names=['comment', 'sentiment'], sep='\\t')\n",
        "    df_list.append(df)\n",
        "\n",
        "trainingData = pd.concat(df_list)\n",
        "\n",
        "print('Number of rows: %d' % len(trainingData))\n",
        "\n",
        "trainingData.head(10)"
      ],
      "execution_count": 3,
      "outputs": [
        {
          "output_type": "stream",
          "text": [
            "Number of rows: 2748\n"
          ],
          "name": "stdout"
        },
        {
          "output_type": "execute_result",
          "data": {
            "text/html": [
              "<div>\n",
              "<style scoped>\n",
              "    .dataframe tbody tr th:only-of-type {\n",
              "        vertical-align: middle;\n",
              "    }\n",
              "\n",
              "    .dataframe tbody tr th {\n",
              "        vertical-align: top;\n",
              "    }\n",
              "\n",
              "    .dataframe thead th {\n",
              "        text-align: right;\n",
              "    }\n",
              "</style>\n",
              "<table border=\"1\" class=\"dataframe\">\n",
              "  <thead>\n",
              "    <tr style=\"text-align: right;\">\n",
              "      <th></th>\n",
              "      <th>comment</th>\n",
              "      <th>sentiment</th>\n",
              "    </tr>\n",
              "  </thead>\n",
              "  <tbody>\n",
              "    <tr>\n",
              "      <th>0</th>\n",
              "      <td>Wow... Loved this place.</td>\n",
              "      <td>1</td>\n",
              "    </tr>\n",
              "    <tr>\n",
              "      <th>1</th>\n",
              "      <td>Crust is not good.</td>\n",
              "      <td>0</td>\n",
              "    </tr>\n",
              "    <tr>\n",
              "      <th>2</th>\n",
              "      <td>Not tasty and the texture was just nasty.</td>\n",
              "      <td>0</td>\n",
              "    </tr>\n",
              "    <tr>\n",
              "      <th>3</th>\n",
              "      <td>Stopped by during the late May bank holiday of...</td>\n",
              "      <td>1</td>\n",
              "    </tr>\n",
              "    <tr>\n",
              "      <th>4</th>\n",
              "      <td>The selection on the menu was great and so wer...</td>\n",
              "      <td>1</td>\n",
              "    </tr>\n",
              "    <tr>\n",
              "      <th>5</th>\n",
              "      <td>Now I am getting angry and I want my damn pho.</td>\n",
              "      <td>0</td>\n",
              "    </tr>\n",
              "    <tr>\n",
              "      <th>6</th>\n",
              "      <td>Honeslty it didn't taste THAT fresh.)</td>\n",
              "      <td>0</td>\n",
              "    </tr>\n",
              "    <tr>\n",
              "      <th>7</th>\n",
              "      <td>The potatoes were like rubber and you could te...</td>\n",
              "      <td>0</td>\n",
              "    </tr>\n",
              "    <tr>\n",
              "      <th>8</th>\n",
              "      <td>The fries were great too.</td>\n",
              "      <td>1</td>\n",
              "    </tr>\n",
              "    <tr>\n",
              "      <th>9</th>\n",
              "      <td>A great touch.</td>\n",
              "      <td>1</td>\n",
              "    </tr>\n",
              "  </tbody>\n",
              "</table>\n",
              "</div>"
            ],
            "text/plain": [
              "                                             comment  sentiment\n",
              "0                           Wow... Loved this place.          1\n",
              "1                                 Crust is not good.          0\n",
              "2          Not tasty and the texture was just nasty.          0\n",
              "3  Stopped by during the late May bank holiday of...          1\n",
              "4  The selection on the menu was great and so wer...          1\n",
              "5     Now I am getting angry and I want my damn pho.          0\n",
              "6              Honeslty it didn't taste THAT fresh.)          0\n",
              "7  The potatoes were like rubber and you could te...          0\n",
              "8                          The fries were great too.          1\n",
              "9                                     A great touch.          1"
            ]
          },
          "metadata": {
            "tags": []
          },
          "execution_count": 3
        }
      ]
    },
    {
      "cell_type": "code",
      "metadata": {
        "colab": {
          "base_uri": "https://localhost:8080/"
        },
        "id": "-T3MJ33xDlTd",
        "outputId": "e26b1c72-7b77-4268-db53-81bdadefdadf"
      },
      "source": [
        "# Download GloVe embeddings\n",
        "\n",
        "!wget http://nlp.stanford.edu/data/glove.6B.zip\n",
        "!echo \"Unzipping glove.6B.zip\"\n",
        "!unzip -q glove.6B.zip\n",
        "!echo \"All done!\""
      ],
      "execution_count": 4,
      "outputs": [
        {
          "output_type": "stream",
          "text": [
            "--2021-04-27 15:59:50--  http://nlp.stanford.edu/data/glove.6B.zip\n",
            "Resolving nlp.stanford.edu (nlp.stanford.edu)... 171.64.67.140\n",
            "Connecting to nlp.stanford.edu (nlp.stanford.edu)|171.64.67.140|:80... connected.\n",
            "HTTP request sent, awaiting response... 302 Found\n",
            "Location: https://nlp.stanford.edu/data/glove.6B.zip [following]\n",
            "--2021-04-27 15:59:50--  https://nlp.stanford.edu/data/glove.6B.zip\n",
            "Connecting to nlp.stanford.edu (nlp.stanford.edu)|171.64.67.140|:443... connected.\n",
            "HTTP request sent, awaiting response... 301 Moved Permanently\n",
            "Location: http://downloads.cs.stanford.edu/nlp/data/glove.6B.zip [following]\n",
            "--2021-04-27 15:59:51--  http://downloads.cs.stanford.edu/nlp/data/glove.6B.zip\n",
            "Resolving downloads.cs.stanford.edu (downloads.cs.stanford.edu)... 171.64.64.22\n",
            "Connecting to downloads.cs.stanford.edu (downloads.cs.stanford.edu)|171.64.64.22|:80... connected.\n",
            "HTTP request sent, awaiting response... 200 OK\n",
            "Length: 862182613 (822M) [application/zip]\n",
            "Saving to: ‘glove.6B.zip’\n",
            "\n",
            "glove.6B.zip        100%[===================>] 822.24M  5.21MB/s    in 2m 41s  \n",
            "\n",
            "2021-04-27 16:02:33 (5.09 MB/s) - ‘glove.6B.zip’ saved [862182613/862182613]\n",
            "\n",
            "Unzipping glove.6B.zip\n",
            "All done!\n"
          ],
          "name": "stdout"
        }
      ]
    },
    {
      "cell_type": "code",
      "metadata": {
        "id": "I6ln8wmVDogo"
      },
      "source": [
        "MAX_NB_WORDS = 20000\n",
        "MAX_SEQUENCE_LENGTH = 1000\n",
        "EMBEDDING_DIM = 50\n",
        "\n",
        "num_classes = 2\n",
        "\n",
        "def load_glove_vectors():\n",
        "  print('Loading glove vectors...')\n",
        "  glove_map = {}\n",
        "  with open('glove.6B.%dd.txt' % EMBEDDING_DIM, encoding = 'utf8') as file:\n",
        "    for line in file:\n",
        "      values = line.split()\n",
        "      word = values[0]\n",
        "      glove_map[word] = np.array(values[1:], dtype = 'float32')\n",
        "  return glove_map\n",
        "\n",
        "def create_embedding_matrix(word_index, num_words):\n",
        "  glove_map = load_glove_vectors()\n",
        "  embedding_matrix = np.zeros((num_words, EMBEDDING_DIM))\n",
        "  for word, i in word_index.items():\n",
        "    if i > num_words:\n",
        "      continue\n",
        "    vector = glove_map.get(word)\n",
        "    if vector is not None:\n",
        "      embedding_matrix[i] = vector\n",
        "  return embedding_matrix"
      ],
      "execution_count": 6,
      "outputs": []
    },
    {
      "cell_type": "code",
      "metadata": {
        "id": "7RhIR-QVDofP"
      },
      "source": [
        "comments = trainingData.comment.astype(str).tolist()\n",
        "sentiments = trainingData.sentiment.tolist()\n",
        "labels = np.asarray(sentiments)\n",
        "\n",
        "tokenizer = Tokenizer(num_words = MAX_NB_WORDS)\n",
        "tokenizer.fit_on_texts(comments)\n",
        "sequences = tokenizer.texts_to_sequences(comments)\n",
        "padded_sequences = pad_sequences(sequences, maxlen = MAX_SEQUENCE_LENGTH)\n",
        "\n",
        "word_index = tokenizer.word_index\n",
        "\n",
        "num_words = min(MAX_NB_WORDS, len(word_index)) + 1\n",
        "\n",
        "x_train, x_test, y_train, y_test = train_test_split(padded_sequences, labels, test_size = 0.2)\n"
      ],
      "execution_count": 9,
      "outputs": []
    },
    {
      "cell_type": "code",
      "metadata": {
        "colab": {
          "base_uri": "https://localhost:8080/"
        },
        "id": "1RHRXgIEDodp",
        "outputId": "8f528c69-8a4a-4a33-c9ca-ec350d57157a"
      },
      "source": [
        "embedding_matrix = create_embedding_matrix(word_index, num_words)"
      ],
      "execution_count": 10,
      "outputs": [
        {
          "output_type": "stream",
          "text": [
            "Loading glove vectors...\n"
          ],
          "name": "stdout"
        }
      ]
    },
    {
      "cell_type": "code",
      "metadata": {
        "colab": {
          "base_uri": "https://localhost:8080/"
        },
        "id": "tlFJe_3tI_Kp",
        "outputId": "b8d5d3a7-e335-4c75-e574-9d514dd4b2e6"
      },
      "source": [
        "dropout = 0.4\n",
        "\n",
        "model = Sequential()\n",
        "model.add(Embedding(num_words, EMBEDDING_DIM, weights=[embedding_matrix],\n",
        "                    input_length=MAX_SEQUENCE_LENGTH, trainable=False))\n",
        "model.add(Dropout(dropout))\n",
        "\n",
        "model.add(Conv1D(128, 5, activation='relu', padding='same', strides=2))\n",
        "model.add(GlobalMaxPooling1D())\n",
        "model.add(Dropout(dropout))\n",
        "\n",
        "model.add(Dense(128, activation='relu'))\n",
        "model.add(Dropout(dropout))\n",
        "model.add(Dense(num_classes, activation='softmax'))\n",
        "model.summary()"
      ],
      "execution_count": 11,
      "outputs": [
        {
          "output_type": "stream",
          "text": [
            "Model: \"sequential\"\n",
            "_________________________________________________________________\n",
            "Layer (type)                 Output Shape              Param #   \n",
            "=================================================================\n",
            "embedding (Embedding)        (None, 1000, 50)          263600    \n",
            "_________________________________________________________________\n",
            "dropout (Dropout)            (None, 1000, 50)          0         \n",
            "_________________________________________________________________\n",
            "conv1d (Conv1D)              (None, 500, 128)          32128     \n",
            "_________________________________________________________________\n",
            "global_max_pooling1d (Global (None, 128)               0         \n",
            "_________________________________________________________________\n",
            "dropout_1 (Dropout)          (None, 128)               0         \n",
            "_________________________________________________________________\n",
            "dense (Dense)                (None, 128)               16512     \n",
            "_________________________________________________________________\n",
            "dropout_2 (Dropout)          (None, 128)               0         \n",
            "_________________________________________________________________\n",
            "dense_1 (Dense)              (None, 2)                 258       \n",
            "=================================================================\n",
            "Total params: 312,498\n",
            "Trainable params: 48,898\n",
            "Non-trainable params: 263,600\n",
            "_________________________________________________________________\n"
          ],
          "name": "stdout"
        }
      ]
    },
    {
      "cell_type": "code",
      "metadata": {
        "colab": {
          "base_uri": "https://localhost:8080/",
          "height": 1000
        },
        "id": "a5lmTd4OJA6c",
        "outputId": "56d195bd-c355-4361-e454-0f0831c6ff6d"
      },
      "source": [
        "model.compile(loss='sparse_categorical_crossentropy', optimizer=Adam(), metrics=['acc'])\n",
        "\n",
        "# Train model for a given number of epochs\n",
        "history = model.fit(x_train, y_train, batch_size=128, epochs=40, verbose=1, validation_data=(x_test, y_test))\n",
        "\n",
        "# Evaluate model against test data\n",
        "score = model.evaluate(x_test, y_test, verbose=0)\n",
        "print('Test loss:', score[0])\n",
        "print('Test accuracy:', score[1])\n",
        "\n",
        "# summarize history for accuracy\n",
        "plt.plot(history.history['acc'])\n",
        "plt.plot(history.history['val_acc'])\n",
        "plt.title('Model accuracy')\n",
        "plt.ylabel('Accuracy')\n",
        "plt.xlabel('Epoch')\n",
        "plt.legend(['Train', 'Test'], loc='upper left')\n",
        "plt.show()"
      ],
      "execution_count": 12,
      "outputs": [
        {
          "output_type": "stream",
          "text": [
            "Epoch 1/40\n",
            "18/18 [==============================] - 30s 61ms/step - loss: 0.9236 - acc: 0.5150 - val_loss: 0.6750 - val_acc: 0.5491\n",
            "Epoch 2/40\n",
            "18/18 [==============================] - 1s 33ms/step - loss: 0.7234 - acc: 0.5530 - val_loss: 0.6549 - val_acc: 0.6273\n",
            "Epoch 3/40\n",
            "18/18 [==============================] - 1s 30ms/step - loss: 0.7028 - acc: 0.5661 - val_loss: 0.6507 - val_acc: 0.6527\n",
            "Epoch 4/40\n",
            "18/18 [==============================] - 1s 30ms/step - loss: 0.6636 - acc: 0.6078 - val_loss: 0.6328 - val_acc: 0.7018\n",
            "Epoch 5/40\n",
            "18/18 [==============================] - 1s 30ms/step - loss: 0.6519 - acc: 0.6095 - val_loss: 0.6093 - val_acc: 0.7255\n",
            "Epoch 6/40\n",
            "18/18 [==============================] - 1s 31ms/step - loss: 0.6454 - acc: 0.6379 - val_loss: 0.5988 - val_acc: 0.7473\n",
            "Epoch 7/40\n",
            "18/18 [==============================] - 1s 30ms/step - loss: 0.6338 - acc: 0.6555 - val_loss: 0.5882 - val_acc: 0.7145\n",
            "Epoch 8/40\n",
            "18/18 [==============================] - 1s 31ms/step - loss: 0.6034 - acc: 0.6747 - val_loss: 0.5704 - val_acc: 0.7255\n",
            "Epoch 9/40\n",
            "18/18 [==============================] - 1s 32ms/step - loss: 0.5838 - acc: 0.6963 - val_loss: 0.5519 - val_acc: 0.7418\n",
            "Epoch 10/40\n",
            "18/18 [==============================] - 1s 32ms/step - loss: 0.5680 - acc: 0.7028 - val_loss: 0.5394 - val_acc: 0.7545\n",
            "Epoch 11/40\n",
            "18/18 [==============================] - 1s 32ms/step - loss: 0.5766 - acc: 0.7016 - val_loss: 0.5329 - val_acc: 0.7618\n",
            "Epoch 12/40\n",
            "18/18 [==============================] - 1s 32ms/step - loss: 0.5734 - acc: 0.7046 - val_loss: 0.5228 - val_acc: 0.7618\n",
            "Epoch 13/40\n",
            "18/18 [==============================] - 1s 32ms/step - loss: 0.5492 - acc: 0.7238 - val_loss: 0.5142 - val_acc: 0.7545\n",
            "Epoch 14/40\n",
            "18/18 [==============================] - 1s 31ms/step - loss: 0.5621 - acc: 0.7053 - val_loss: 0.5134 - val_acc: 0.7473\n",
            "Epoch 15/40\n",
            "18/18 [==============================] - 1s 31ms/step - loss: 0.5179 - acc: 0.7570 - val_loss: 0.4981 - val_acc: 0.7855\n",
            "Epoch 16/40\n",
            "18/18 [==============================] - 1s 30ms/step - loss: 0.5432 - acc: 0.7336 - val_loss: 0.4956 - val_acc: 0.7782\n",
            "Epoch 17/40\n",
            "18/18 [==============================] - 1s 31ms/step - loss: 0.5085 - acc: 0.7516 - val_loss: 0.4819 - val_acc: 0.7691\n",
            "Epoch 18/40\n",
            "18/18 [==============================] - 1s 31ms/step - loss: 0.5053 - acc: 0.7655 - val_loss: 0.4770 - val_acc: 0.7782\n",
            "Epoch 19/40\n",
            "18/18 [==============================] - 1s 31ms/step - loss: 0.4893 - acc: 0.7741 - val_loss: 0.4752 - val_acc: 0.7891\n",
            "Epoch 20/40\n",
            "18/18 [==============================] - 1s 30ms/step - loss: 0.5162 - acc: 0.7461 - val_loss: 0.4780 - val_acc: 0.7964\n",
            "Epoch 21/40\n",
            "18/18 [==============================] - 1s 30ms/step - loss: 0.5074 - acc: 0.7464 - val_loss: 0.4727 - val_acc: 0.7982\n",
            "Epoch 22/40\n",
            "18/18 [==============================] - 1s 31ms/step - loss: 0.4822 - acc: 0.7690 - val_loss: 0.4702 - val_acc: 0.7927\n",
            "Epoch 23/40\n",
            "18/18 [==============================] - 1s 31ms/step - loss: 0.4636 - acc: 0.7829 - val_loss: 0.4795 - val_acc: 0.7636\n",
            "Epoch 24/40\n",
            "18/18 [==============================] - 1s 31ms/step - loss: 0.4719 - acc: 0.7820 - val_loss: 0.4655 - val_acc: 0.8000\n",
            "Epoch 25/40\n",
            "18/18 [==============================] - 1s 30ms/step - loss: 0.4891 - acc: 0.7550 - val_loss: 0.4656 - val_acc: 0.7945\n",
            "Epoch 26/40\n",
            "18/18 [==============================] - 1s 31ms/step - loss: 0.4788 - acc: 0.7636 - val_loss: 0.4581 - val_acc: 0.7982\n",
            "Epoch 27/40\n",
            "18/18 [==============================] - 1s 30ms/step - loss: 0.4829 - acc: 0.7647 - val_loss: 0.4524 - val_acc: 0.7982\n",
            "Epoch 28/40\n",
            "18/18 [==============================] - 1s 31ms/step - loss: 0.4597 - acc: 0.7886 - val_loss: 0.4548 - val_acc: 0.7927\n",
            "Epoch 29/40\n",
            "18/18 [==============================] - 1s 30ms/step - loss: 0.4724 - acc: 0.7677 - val_loss: 0.4524 - val_acc: 0.7945\n",
            "Epoch 30/40\n",
            "18/18 [==============================] - 1s 31ms/step - loss: 0.4644 - acc: 0.7892 - val_loss: 0.4477 - val_acc: 0.7855\n",
            "Epoch 31/40\n",
            "18/18 [==============================] - 1s 31ms/step - loss: 0.4517 - acc: 0.7836 - val_loss: 0.4477 - val_acc: 0.7836\n",
            "Epoch 32/40\n",
            "18/18 [==============================] - 1s 31ms/step - loss: 0.4561 - acc: 0.7797 - val_loss: 0.4478 - val_acc: 0.7909\n",
            "Epoch 33/40\n",
            "18/18 [==============================] - 1s 31ms/step - loss: 0.4564 - acc: 0.7841 - val_loss: 0.4414 - val_acc: 0.7945\n",
            "Epoch 34/40\n",
            "18/18 [==============================] - 1s 32ms/step - loss: 0.4476 - acc: 0.7920 - val_loss: 0.4419 - val_acc: 0.7891\n",
            "Epoch 35/40\n",
            "18/18 [==============================] - 1s 30ms/step - loss: 0.4600 - acc: 0.7749 - val_loss: 0.4475 - val_acc: 0.7800\n",
            "Epoch 36/40\n",
            "18/18 [==============================] - 1s 31ms/step - loss: 0.4363 - acc: 0.7866 - val_loss: 0.4400 - val_acc: 0.8036\n",
            "Epoch 37/40\n",
            "18/18 [==============================] - 1s 31ms/step - loss: 0.4337 - acc: 0.7912 - val_loss: 0.4367 - val_acc: 0.8000\n",
            "Epoch 38/40\n",
            "18/18 [==============================] - 1s 30ms/step - loss: 0.4061 - acc: 0.8122 - val_loss: 0.4373 - val_acc: 0.7855\n",
            "Epoch 39/40\n",
            "18/18 [==============================] - 1s 31ms/step - loss: 0.4466 - acc: 0.7844 - val_loss: 0.4440 - val_acc: 0.7909\n",
            "Epoch 40/40\n",
            "18/18 [==============================] - 1s 30ms/step - loss: 0.4510 - acc: 0.7872 - val_loss: 0.4376 - val_acc: 0.7909\n",
            "Test loss: 0.43757176399230957\n",
            "Test accuracy: 0.7909091114997864\n"
          ],
          "name": "stdout"
        },
        {
          "output_type": "display_data",
          "data": {
            "image/png": "[encoded data removed]",
            "text/plain": [
              "<Figure size 432x288 with 1 Axes>"
            ]
          },
          "metadata": {
            "tags": [],
            "needs_background": "light"
          }
        }
      ]
    },
    {
      "cell_type": "code",
      "metadata": {
        "id": "mRjK64nQKFsW"
      },
      "source": [
        "predictions = model.predict(padded_sequences)\n",
        "most_likely = predictions.argmax(1)"
      ],
      "execution_count": 13,
      "outputs": []
    },
    {
      "cell_type": "code",
      "metadata": {
        "colab": {
          "base_uri": "https://localhost:8080/"
        },
        "id": "5hYcCz4GKMbF",
        "outputId": "b2720a75-fb48-4ab7-fd0b-64c685bf3162"
      },
      "source": [
        "index = random.randrange(len(predictions))\n",
        "print(comments[index])\n",
        "print('Prediction: %d, label: %d' % (most_likely[index], sentiments[index]))"
      ],
      "execution_count": 30,
      "outputs": [
        {
          "output_type": "stream",
          "text": [
            "Will never, ever go back.\n",
            "Prediction: 0, label: 0\n"
          ],
          "name": "stdout"
        }
      ]
    },
    {
      "cell_type": "code",
      "metadata": {
        "colab": {
          "base_uri": "https://localhost:8080/",
          "height": 336
        },
        "id": "CL2CWxqsKjFa",
        "outputId": "d24b6e8a-6eec-456d-d912-84c6bb6ec01a"
      },
      "source": [
        "for i in range(1000):\n",
        "  index = random.randrange(len(predictions))\n",
        "  if most_likely[index] != sentiments[index]:\n",
        "    break\n",
        "print(comments[index])\n",
        "print('Prediction: %d, Label: %d' % (most_likely[index], sentiments[index]))\n",
        "\n",
        "plt.bar(range(num_classes), predictions[index], tick_label = range(num_classes))\n",
        "plt.title('Predictions values')\n",
        "plt.show()"
      ],
      "execution_count": 31,
      "outputs": [
        {
          "output_type": "stream",
          "text": [
            "The descriptions said \"yum yum sauce\" and another said \"eel sauce\", yet another said \"spicy mayo\"...well NONE of the rolls had sauces on them.\n",
            "Prediction: 1, Label: 0\n"
          ],
          "name": "stdout"
        },
        {
          "output_type": "display_data",
          "data": {
            "image/png": "[encoded data removed]",
            "text/plain": [
              "<Figure size 432x288 with 1 Axes>"
            ]
          },
          "metadata": {
            "tags": [],
            "needs_background": "light"
          }
        }
      ]
    }
  ]
}